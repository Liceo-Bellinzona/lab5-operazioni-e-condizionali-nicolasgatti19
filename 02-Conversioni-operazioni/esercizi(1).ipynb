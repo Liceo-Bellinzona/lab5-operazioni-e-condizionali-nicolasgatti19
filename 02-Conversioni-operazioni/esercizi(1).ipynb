{
 "cells": [
  {
   "cell_type": "markdown",
   "metadata": {},
   "source": [
    "# Paga lorda\n",
    "Scrivere un programma che calcoli e visualizzi la paga lorda di un dipendente a ore. I\n",
    "passaggi da seguire sono i seguenti:\n",
    "1. Ottenere il numero di ore lavorative;\n",
    "2. ottenere retribuzione oraria;\n",
    "3. moltiplicare il numero di ore lavorate per la retribuzione oraria;\n",
    "4. visualizzare il risultato del calcolo eseguito al passaggio 3."
   ]
  },
  {
   "cell_type": "code",
   "execution_count": 1,
   "metadata": {},
   "outputs": [
    {
     "name": "stdout",
     "output_type": "stream",
     "text": [
      "il tuo stipendio é 4529.2\n"
     ]
    }
   ],
   "source": [
    "numero_ore=float(input(\"inserisci le tue ore di lavoro?\"))\n",
    "paga_oraria=float(input(\"paga ora?\"))\n",
    " \n",
    "stipendio_tot =numero_ore * paga_oraria \n",
    "\n",
    "\n",
    "    \n",
    "     \n",
    "    \n",
    "print(f\"il tuo stipendio é {stipendio_tot}\")\n"
   ]
  },
  {
   "cell_type": "markdown",
   "metadata": {},
   "source": [
    "# Calcolo della superficie\n",
    "Un acro di terra corrisponde a circa 4046 metri quadrati. Scrivere un programma che chieda\n",
    "all’utente di inserire la superficie di un terreno in metri quadrati e calcoli quindi il numero\n",
    "di acri di quel terreno."
   ]
  },
  {
   "cell_type": "code",
   "execution_count": 3,
   "metadata": {},
   "outputs": [
    {
     "name": "stdout",
     "output_type": "stream",
     "text": [
      "il tuo numero di acri é 0.02422145328719723\n"
     ]
    }
   ],
   "source": [
    "superficie_terreno = float(input(\"quale é la suprficie del tuo terreno\"))\n",
    "numero_acri= superficie_terreno/4046\n",
    "print(f\"il tuo numero di acri é {numero_acri}\")"
   ]
  },
  {
   "cell_type": "markdown",
   "metadata": {},
   "source": [
    "# Previsioni delle vendite \n",
    "Un’azienda ha determinato che il suo profitto annuale è tipicamente il 23% del totale delle\n",
    "vendite. \n",
    "Scrivere un programma che chieda all’utente di inserire il totale delle vendite previste e visualizzi quindi il profitto che si terrà da questa somma.\n",
    "\n",
    "*Suggerimento: non esiste il tipo di dato 23%. È necessario utilizzare gli operatori di\n",
    "moltiplicazione e divisione per ottenere la percentuale sul totale delle vendite.*\n"
   ]
  },
  {
   "cell_type": "markdown",
   "metadata": {},
   "source": []
  },
  {
   "cell_type": "markdown",
   "metadata": {},
   "source": [
    "# IVA \n",
    "Scrivere un programma che chieda all’utente di inserire il costo totale di un acquisto al netto\n",
    "di Iva. \n",
    "\n",
    "Si supponga che l’IVA sia pari all’8%. \n",
    "\n",
    "Il programma deve visualizzare il costo totale\n",
    "dell’acquisto al netto di IVA, l’IVA e il costo totale dell’acquisto (quindi IVA compresa)."
   ]
  },
  {
   "cell_type": "code",
   "execution_count": null,
   "metadata": {},
   "outputs": [],
   "source": [
    "\n"
   ]
  },
  {
   "cell_type": "markdown",
   "metadata": {},
   "source": [
    "# esercizio biscotti"
   ]
  },
  {
   "cell_type": "code",
   "execution_count": 5,
   "metadata": {},
   "outputs": [
    {
     "name": "stdout",
     "output_type": "stream",
     "text": [
      "se vuoi preparare 67 biscotti\n",
      " avrai bisogno 10050 grammi di zucchero,6700 grammi di burro e 18425 grammi di farina \n"
     ]
    }
   ],
   "source": [
    "numero_biscotti=int(input(\"quanti biscotti vuoi preparare\"))\n",
    "print(f\"se vuoi preparare {numero_biscotti} biscotti\")\n",
    "zucchero_48_biscotti=150 * numero_biscotti\n",
    "burro_48_biscotti=100 * numero_biscotti\n",
    "farina_48_biscotti=275 * numero_biscotti\n",
    "print(f\" avrai bisogno {zucchero_48_biscotti} grammi di zucchero,{burro_48_biscotti} grammi di burro e { farina_48_biscotti} grammi di farina \")\n"
   ]
  },
  {
   "cell_type": "code",
   "execution_count": null,
   "metadata": {},
   "outputs": [],
   "source": []
  },
  {
   "cell_type": "code",
   "execution_count": null,
   "metadata": {},
   "outputs": [],
   "source": [
    "farina un biscotto_"
   ]
  }
 ],
 "metadata": {
  "kernelspec": {
   "display_name": "Python 3 (ipykernel)",
   "language": "python",
   "name": "python3"
  }
 },
 "nbformat": 4,
 "nbformat_minor": 2
}

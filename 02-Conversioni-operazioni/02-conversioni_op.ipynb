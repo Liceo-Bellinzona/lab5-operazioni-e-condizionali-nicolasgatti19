{
 "cells": [
  {
   "cell_type": "code",
   "execution_count": 12,
   "metadata": {},
   "outputs": [
    {
     "name": "stdout",
     "output_type": "stream",
     "text": [
      "5\n",
      "<class 'int'>\n",
      "ciao come stai?\n",
      "<class 'str'>\n"
     ]
    }
   ],
   "source": [
    "numero:int=5\n",
    "\n",
    "print(numero)\n",
    "print(type(numero))\n",
    "\n",
    "stringa:str=\"ciao come stai?\"\n",
    "print(stringa)\n",
    "print(type(stringa))\n"
   ]
  },
  {
   "cell_type": "markdown",
   "metadata": {},
   "source": [
    "# Conversioni (casting)\n",
    "Con python possiamo convertire un tipo di dato in un altro con un'operazione chiamata casting"
   ]
  },
  {
   "cell_type": "markdown",
   "metadata": {},
   "source": [
    "## Casting da intero a stringa\n"
   ]
  },
  {
   "cell_type": "code",
   "execution_count": 13,
   "metadata": {},
   "outputs": [
    {
     "name": "stdout",
     "output_type": "stream",
     "text": [
      "5\n",
      "<class 'int'>\n",
      "5\n",
      "<class 'str'>\n"
     ]
    }
   ],
   "source": [
    "# Creiamo una variabile che contiene un'intero\n",
    "var:int = 5\n",
    "\n",
    "# Convertiamo la variabile da intero a stringa\n",
    "var_str:str = str(var)\n",
    "\n",
    "print(var)\n",
    "print(type(var))\n",
    "print(var_str)\n",
    "print(type(var_str))\n",
    "\n"
   ]
  },
  {
   "cell_type": "markdown",
   "metadata": {},
   "source": [
    "## Da stringa a intero o float"
   ]
  },
  {
   "cell_type": "code",
   "execution_count": 14,
   "metadata": {},
   "outputs": [
    {
     "name": "stdout",
     "output_type": "stream",
     "text": [
      "3\n",
      "<class 'str'>\n",
      "3\n",
      "<class 'int'>\n",
      "3.0\n",
      "<class 'float'>\n",
      "0.6\n"
     ]
    }
   ],
   "source": [
    "stringa:str=\"3\"\n",
    "print(stringa)\n",
    "print(type(stringa))\n",
    "\n",
    "numero:int=int(stringa)\n",
    "print(numero)\n",
    "print(type(numero))\n",
    "numero+6\n",
    "\n",
    "numero_float:float=float(stringa)\n",
    "print(numero_float)\n",
    "print(type(numero_float))\n",
    "print(numero_float/5)"
   ]
  },
  {
   "cell_type": "markdown",
   "metadata": {},
   "source": [
    "# Operazioni \n",
    "Con Python possiamo eseguire le varie **operazioni matematiche** utilizzando l'operatore corretto"
   ]
  },
  {
   "cell_type": "code",
   "execution_count": 20,
   "metadata": {},
   "outputs": [
    {
     "name": "stdout",
     "output_type": "stream",
     "text": [
      "8\n",
      "3\n",
      "40\n",
      "50.0\n",
      "1\n"
     ]
    }
   ],
   "source": [
    "# somma\n",
    "print(5+3)\n",
    "\n",
    "# sottrazione\n",
    "print(4-1)\n",
    "\n",
    "# prodotto\n",
    "print(20*2)\n",
    "\n",
    "# divisione\n",
    "print(100/2)\n",
    "\n",
    "# resto\n",
    "print(9%2)\n",
    "\n"
   ]
  },
  {
   "cell_type": "markdown",
   "metadata": {},
   "source": [
    "\n",
    "Gli operatori aritmetici assumono una altro significato se utilizzati con stringhe.\n",
    "Ad esempio l'operatore `+` viene utilizzato per concatenare due stringhe.\n"
   ]
  },
  {
   "cell_type": "code",
   "execution_count": 1,
   "metadata": {},
   "outputs": [
    {
     "name": "stdout",
     "output_type": "stream",
     "text": [
      "58\n",
      "<class 'str'>\n"
     ]
    }
   ],
   "source": [
    "# unire due stringhe\n",
    "stringa1:str=\"5\"\n",
    "stringa2:str=\"8\"\n",
    "risultato:str=stringa1+stringa2\n",
    "print(risultato)\n",
    "print(type(risultato))\n"
   ]
  },
  {
   "cell_type": "markdown",
   "metadata": {},
   "source": [
    "Cosa succede se moltiplichiamo una stringa per un numero intero?\n",
    "hhhh"
   ]
  },
  {
   "cell_type": "code",
   "execution_count": 1,
   "metadata": {},
   "outputs": [
    {
     "data": {
      "text/plain": [
       "'333'"
      ]
     },
     "execution_count": 1,
     "metadata": {},
     "output_type": "execute_result"
    }
   ],
   "source": [
    "\"3\"*3"
   ]
  },
  {
   "cell_type": "code",
   "execution_count": 2,
   "metadata": {},
   "outputs": [
    {
     "data": {
      "text/plain": [
       "'3333'"
      ]
     },
     "execution_count": 2,
     "metadata": {},
     "output_type": "execute_result"
    }
   ],
   "source": [
    "\"3\"*4"
   ]
  },
  {
   "cell_type": "markdown",
   "metadata": {},
   "source": [
    "Attenzione però, non tutte le operazioni sono possibili su tutti i tipi di dati. Ad esempio non è possibile sommare una stringa ad un intero."
   ]
  },
  {
   "cell_type": "code",
   "execution_count": 3,
   "metadata": {},
   "outputs": [
    {
     "ename": "TypeError",
     "evalue": "unsupported operand type(s) for +: 'int' and 'str'",
     "output_type": "error",
     "traceback": [
      "\u001b[0;31m---------------------------------------------------------------------------\u001b[0m",
      "\u001b[0;31mTypeError\u001b[0m                                 Traceback (most recent call last)",
      "Cell \u001b[0;32mIn[3], line 1\u001b[0m\n\u001b[0;32m----> 1\u001b[0m \u001b[38;5;241;43m2\u001b[39;49m\u001b[43m \u001b[49m\u001b[38;5;241;43m+\u001b[39;49m\u001b[43m \u001b[49m\u001b[38;5;124;43m\"\u001b[39;49m\u001b[38;5;124;43m3\u001b[39;49m\u001b[38;5;124;43m\"\u001b[39;49m\n",
      "\u001b[0;31mTypeError\u001b[0m: unsupported operand type(s) for +: 'int' and 'str'"
     ]
    }
   ],
   "source": [
    "2 + \"3\""
   ]
  },
  {
   "cell_type": "markdown",
   "metadata": {},
   "source": [
    "Come vedi il tentativo di sommare una parola e un numero ha causato un'errore, che in Python vengono chiamate **eccezioni**.<br> \n",
    "Ogni volta che si verifica un'eccezione Python ci mostra:\n",
    " * la riga esatta in cui si è verificato (La freccia verde)\n",
    " * il tipo di eccezone (TypeError)\n",
    " * una breve descrizione (*can only concatenate str (not \"int\") to str*)\n",
    " \n",
    "Un altro esempio di eccezione è quella che avviene se proviamo a convertire una parola in numero."
   ]
  },
  {
   "cell_type": "code",
   "execution_count": null,
   "metadata": {},
   "outputs": [],
   "source": [
    "# Creiamo una variabile che contiene un intero\n",
    "var = \"boh\"\n",
    "\n",
    "# Convertiamo la variabile da intero a float\n",
    "var = float(var)\n",
    "\n",
    "print(var)\n",
    "print(type(var))"
   ]
  },
  {
   "cell_type": "markdown",
   "metadata": {},
   "source": [
    "# Operazioni sulle stringhe\n",
    "Una stringa è una sequenza di caratteri. In Python possiamo eseguire diverse operazioni su una stringa.\n",
    "Possiamo accedere ai singoli caratteri di una stringa utilizzando l'indice tra parentesi quadre.\n",
    "Attenzione però, in Python gli indici partono da 0.\n",
    "\n",
    "Per determinare la lunghezza di una stringa possiamo utilizzare la funzione `len()`\n",
    "\n",
    "Prova a modificare il valore dell'indice per vedere cosa succede.\n",
    "Si possono usare indici negativi? Cosa succede se provi ad accedere ad un indice maggiore della lunghezza della stringa?"
   ]
  },
  {
   "cell_type": "code",
   "execution_count": 7,
   "metadata": {},
   "outputs": [
    {
     "name": "stdout",
     "output_type": "stream",
     "text": [
      "15\n"
     ]
    },
    {
     "data": {
      "text/plain": [
       "'t'"
      ]
     },
     "execution_count": 7,
     "metadata": {},
     "output_type": "execute_result"
    }
   ],
   "source": [
    "stringa:str=\"ciao come stai?\"\n",
    "lunghezza:int=len(stringa)\n",
    "\n",
    "print(lunghezza)\n",
    "\n",
    "indice=11  #Modificare questo valore per vedere il carattere corrispondente\n",
    "stringa[indice]"
   ]
  },
  {
   "cell_type": "markdown",
   "metadata": {},
   "source": [
    "È possibile anche ottenere una parte di una stringa utilizzando la sintassi `stringa[start:stop]`. Questo è chiamato slicing."
   ]
  },
  {
   "cell_type": "code",
   "execution_count": 33,
   "metadata": {},
   "outputs": [
    {
     "data": {
      "text/plain": [
       "'ciao'"
      ]
     },
     "execution_count": 33,
     "metadata": {},
     "output_type": "execute_result"
    }
   ],
   "source": [
    "stringa= \"ciao mondo\"\n",
    "stringa[0:4]"
   ]
  },
  {
   "cell_type": "markdown",
   "metadata": {},
   "source": [
    "Ci sono pure delle funzioni che possiamo utilizzare per manipolare le stringhe. Ad esempio la funzione `upper()` che trasforma tutti i caratteri in maiuscolo. Oppure la funzione `lower()` che trasforma tutti i caratteri in minuscolo.\n"
   ]
  },
  {
   "cell_type": "code",
   "execution_count": 5,
   "metadata": {},
   "outputs": [
    {
     "data": {
      "text/plain": [
       "'CIAO COME STAI?'"
      ]
     },
     "execution_count": 5,
     "metadata": {},
     "output_type": "execute_result"
    }
   ],
   "source": [
    "stringa:str=\"ciao come stai?\"\n",
    "stringa.upper( )\n",
    "\n"
   ]
  },
  {
   "cell_type": "code",
   "execution_count": null,
   "metadata": {},
   "outputs": [],
   "source": [
    "stringa"
   ]
  },
  {
   "cell_type": "markdown",
   "metadata": {},
   "source": [
    "# Costruire stringhe con f-string\n",
    "A volte può essere utile costruire stringhe a partire da variabili, e Python offre un modo molto semplice per farlo: le f-string.\n",
    "\n",
    "Le f-string sono stringhe precedute dal carattere `f` (da qui il nome) e contengono delle espressioni racchiuse tra parentesi graffe `{}`. Queste espressioni vengono valutate e il loro risultato viene inserito nella stringa.\n",
    "\n",
    "Ecco un esempio:\n",
    "```python\n",
    "nome = \"Mario\"\n",
    "cognome = \"Rossi\"\n",
    "print(f\"Ciao, mi chiamo {nome} {cognome}\")"
   ]
  },
  {
   "cell_type": "code",
   "execution_count": 7,
   "metadata": {},
   "outputs": [
    {
     "name": "stdout",
     "output_type": "stream",
     "text": [
      "Ciao, mi chiamo Nicolas Gatti\n"
     ]
    }
   ],
   "source": [
    "nome = \"Nicolas\"\n",
    "cognome = \"Gatti\"\n",
    "print(f\"Ciao, mi chiamo {nome} {cognome}\")"
   ]
  },
  {
   "cell_type": "code",
   "execution_count": 9,
   "metadata": {},
   "outputs": [
    {
     "name": "stdout",
     "output_type": "stream",
     "text": [
      "manda questo link a nicolas.gatti@bluewin,ch\n"
     ]
    }
   ],
   "source": [
    "nome = \"nicolas.gatti@bluewin,ch\"\n",
    "print(f\"manda questo link a {nome}\")"
   ]
  },
  {
   "cell_type": "code",
   "execution_count": 15,
   "metadata": {},
   "outputs": [
    {
     "name": "stdout",
     "output_type": "stream",
     "text": [
      "Giovanni abita in via Lugano 40\n"
     ]
    }
   ],
   "source": [
    "nome =\"via Lugano\"\n",
    "nome1 =\"40\"\n",
    "print(f\"Giovanni abita in {nome} {nome1}\")"
   ]
  },
  {
   "cell_type": "code",
   "execution_count": 38,
   "metadata": {},
   "outputs": [
    {
     "data": {
      "text/plain": [
       "'ciao'"
      ]
     },
     "execution_count": 38,
     "metadata": {},
     "output_type": "execute_result"
    }
   ],
   "source": [
    "nome3 =\"cao\"\n",
    "nome4 =\"i\"\n",
    "nome3[0]+nome4+nome3[1:]"
   ]
  },
  {
   "cell_type": "code",
   "execution_count": 33,
   "metadata": {},
   "outputs": [
    {
     "name": "stdout",
     "output_type": "stream",
     "text": [
      "IN PI\n"
     ]
    },
    {
     "data": {
      "text/plain": [
       "'O IN PISCINA'"
      ]
     },
     "execution_count": 33,
     "metadata": {},
     "output_type": "execute_result"
    }
   ],
   "source": [
    "stringa:str=\"oggi vado in piscina anche se é brutto tempo\"\n",
    "pezzo=stringa[8:20]\n",
    "pezzo_maisucolo=pezzo.upper()  \n",
    "\n",
    "print(pezzo_maisucolo[2:7])\n",
    "pezzo_maisucolo\n",
    "\n"
   ]
  },
  {
   "cell_type": "code",
   "execution_count": 32,
   "metadata": {},
   "outputs": [
    {
     "data": {
      "text/plain": [
       "10"
      ]
     },
     "execution_count": 32,
     "metadata": {},
     "output_type": "execute_result"
    }
   ],
   "source": [
    "stringa = \"ciao mondo\"\n",
    "[len(stringa)]"
   ]
  },
  {
   "cell_type": "markdown",
   "metadata": {},
   "source": [
    "# Esempio \n",
    "Un esempio di trattamento delle informazioni sulle stringhe potrebbe essere la creazione di un messaggio di benvenuto personalizzato o l'estrazione di nome e cognome da un indirizzo email.\n",
    "Se l'indirizzo email è nel formato `nome.cognome@mail.com` possiamo estrarre il nome e il cognome utilizzando il metodo `split()` e poi costruire un messaggio di benvenuto utilizzando le f-string.\n",
    "Ad esempio:\n",
    "```python   \n",
    "email = \"nome.cognome@mail.com\"\n",
    "mail = email.split(\"@\")[0]\n",
    "provider= email.split(\"@\")[1]\n",
    "```\n",
    "In questo caso `mail` conterrà `nome.cognome` e `provider` conterrà `mail.com`.\n",
    "\n",
    "Prova a modificare il  seguente  programma che chiede all'utente di inserire il proprio indirizzo email e poi stampa un messaggio di benvenuto personalizzato estraendo il nome e il cognome dall'indirizzo email.\n",
    "\n",
    "\n",
    "\n"
   ]
  },
  {
   "cell_type": "code",
   "execution_count": 1,
   "metadata": {},
   "outputs": [],
   "source": [
    "input_email = input(\"Inserisci il tuo indirizzo email: (nome.cognome@mail.com)\")\n",
    "mail = input_email.split(\"@\")[0]\n",
    "provider= input_email.split(\"@\")[1]\n",
    "# nome=\n",
    "# cognome=\n",
    "\n",
    "print(f\"La tua mail è {mail} e il provider è {provider}\")\n",
    "#print(f\"Nome: {nome} Cognome: {cognome} Provider: {provider}\")"
   ]
  },
  {
   "cell_type": "code",
   "execution_count": 6,
   "metadata": {},
   "outputs": [
    {
     "name": "stdout",
     "output_type": "stream",
     "text": [
      "la tua email é nicolas.gatti e il noc:bluewin.ch \n"
     ]
    }
   ],
   "source": [
    "input_email =input(\"inserisci il tuo indirizzo email:(nome.cognome@mail.com)\")\n",
    "nic=input_email.split(\"@\")[0]\n",
    "noc=input_email.split(\"@\")[1]\n",
    "print(f\"la tua email é {nic} e il noc:{noc} \")"
   ]
  },
  {
   "cell_type": "code",
   "execution_count": 8,
   "metadata": {},
   "outputs": [
    {
     "name": "stdout",
     "output_type": "stream",
     "text": [
      "il tuo nome è Nicolas il tuo cognome é Gatti\n"
     ]
    }
   ],
   "source": [
    "input_nome_cognome=input(\"inserisci il tuo nome e cognome(nomeLcognome)\")\n",
    "nome=input_nome_cognome.split(\"L\")[0]\n",
    "cognome=input_nome_cognome.split(\"L\")[1]\n",
    "print(f\"il tuo nome è {nome} il tuo cognome é {cognome}\")"
   ]
  },
  {
   "cell_type": "code",
   "execution_count": 17,
   "metadata": {},
   "outputs": [
    {
     "ename": "SyntaxError",
     "evalue": "expected ':' (3221894090.py, line 5)",
     "output_type": "error",
     "traceback": [
      "\u001b[0;36m  Cell \u001b[0;32mIn[17], line 5\u001b[0;36m\u001b[0m\n\u001b[0;31m    if eta >18\u001b[0m\n\u001b[0m               ^\u001b[0m\n\u001b[0;31mSyntaxError\u001b[0m\u001b[0;31m:\u001b[0m expected ':'\n"
     ]
    }
   ],
   "source": [
    "nome=input(\"Come ti chiami?\")\n",
    "eta=input(\"Quanti anni hai?\")\n",
    "print(f\"Ciao {nome} hai {eta} anni\")\n",
    "\n",
    "if eta >18 \n",
    "    print(puoi entrare)\n",
    "else:\n",
    "    print(non puoi entrare)\n",
    "\n",
    "\n",
    "\n",
    "\n",
    " "
   ]
  },
  {
   "cell_type": "code",
   "execution_count": null,
   "metadata": {},
   "outputs": [],
   "source": [
    "ESERCIZI "
   ]
  },
  {
   "cell_type": "code",
   "execution_count": 5,
   "metadata": {},
   "outputs": [
    {
     "name": "stdout",
     "output_type": "stream",
     "text": [
      "(3, 0)\n",
      "<class 'tuple'>\n"
     ]
    }
   ],
   "source": [
    "numero= 3,0\n",
    "print(numero)\n",
    "print(type(numero))"
   ]
  },
  {
   "cell_type": "code",
   "execution_count": 6,
   "metadata": {},
   "outputs": [
    {
     "name": "stdout",
     "output_type": "stream",
     "text": [
      "ciao\n",
      "<class 'str'>\n"
     ]
    }
   ],
   "source": [
    "testo=\"ciao\"\n",
    "print(testo)\n",
    "print(type(testo))"
   ]
  },
  {
   "cell_type": "code",
   "execution_count": 7,
   "metadata": {},
   "outputs": [],
   "source": [
    "numero:int=89\n"
   ]
  },
  {
   "cell_type": "code",
   "execution_count": 9,
   "metadata": {},
   "outputs": [
    {
     "name": "stdout",
     "output_type": "stream",
     "text": [
      "18\n"
     ]
    }
   ],
   "source": [
    "numero=9\n",
    "numero1=9\n",
    "print(numero+numero1)"
   ]
  },
  {
   "cell_type": "code",
   "execution_count": 10,
   "metadata": {},
   "outputs": [
    {
     "name": "stdout",
     "output_type": "stream",
     "text": [
      "99\n"
     ]
    }
   ],
   "source": [
    "numero=\"9\"\n",
    "numero1=\"9\"\n",
    "print(numero+numero1)"
   ]
  },
  {
   "cell_type": "code",
   "execution_count": 11,
   "metadata": {},
   "outputs": [
    {
     "name": "stdout",
     "output_type": "stream",
     "text": [
      "27\n"
     ]
    }
   ],
   "source": [
    "numero=9\n",
    "print(3*numero)"
   ]
  },
  {
   "cell_type": "code",
   "execution_count": 14,
   "metadata": {},
   "outputs": [
    {
     "name": "stdout",
     "output_type": "stream",
     "text": [
      "999\n"
     ]
    }
   ],
   "source": [
    "numero=\"9\"\n",
    "print(3*numero)"
   ]
  },
  {
   "cell_type": "code",
   "execution_count": 16,
   "metadata": {},
   "outputs": [
    {
     "name": "stdout",
     "output_type": "stream",
     "text": [
      "3 ciao\n"
     ]
    }
   ],
   "source": [
    "numero=\"ciao\"\n",
    "print(3,numero)"
   ]
  },
  {
   "cell_type": "code",
   "execution_count": 25,
   "metadata": {},
   "outputs": [
    {
     "name": "stdout",
     "output_type": "stream",
     "text": [
      "14\n"
     ]
    }
   ],
   "source": [
    "testo=\"ciao come stai\"\n",
    "lunghezza:int=len(testo)\n",
    "print(lunghezza)"
   ]
  },
  {
   "cell_type": "code",
   "execution_count": 26,
   "metadata": {},
   "outputs": [
    {
     "name": "stdout",
     "output_type": "stream",
     "text": [
      "14\n"
     ]
    }
   ],
   "source": [
    "testo=\"ciao come stai\"\n",
    "lunghezza:float=len(testo)\n",
    "print(lunghezza)\n"
   ]
  },
  {
   "cell_type": "code",
   "execution_count": 55,
   "metadata": {},
   "outputs": [
    {
     "data": {
      "text/plain": [
       "'NICOLAS É UN FIGO'"
      ]
     },
     "execution_count": 55,
     "metadata": {},
     "output_type": "execute_result"
    }
   ],
   "source": [
    "stringa:str=\"nicolas é un figo\"\n",
    "stringa[1:8]\n",
    "\n",
    "stringa.upper()\n"
   ]
  },
  {
   "cell_type": "code",
   "execution_count": 39,
   "metadata": {},
   "outputs": [
    {
     "ename": "NameError",
     "evalue": "name 'upper' is not defined",
     "output_type": "error",
     "traceback": [
      "\u001b[0;31m---------------------------------------------------------------------------\u001b[0m",
      "\u001b[0;31mNameError\u001b[0m                                 Traceback (most recent call last)",
      "Cell \u001b[0;32mIn[39], line 3\u001b[0m\n\u001b[1;32m      1\u001b[0m stringa:\u001b[38;5;28mstr\u001b[39m\u001b[38;5;241m=\u001b[39m\u001b[38;5;124m\"\u001b[39m\u001b[38;5;124moggi vado in piscina anche se é brutto tempo\u001b[39m\u001b[38;5;124m\"\u001b[39m\n\u001b[1;32m      2\u001b[0m pezzo\u001b[38;5;241m=\u001b[39mstringa[\u001b[38;5;241m8\u001b[39m:\u001b[38;5;241m20\u001b[39m]\n\u001b[0;32m----> 3\u001b[0m pezzo_maiuscolo\u001b[38;5;241m=\u001b[39m \u001b[43mupper\u001b[49m\u001b[38;5;241m.\u001b[39mpezzo\n",
      "\u001b[0;31mNameError\u001b[0m: name 'upper' is not defined"
     ]
    }
   ],
   "source": [
    "stringa:str=\"oggi vado in piscina anche se é brutto tempo\"\n",
    "pezzo=stringa[8:20]\n",
    "pezzo_maiuscolo=pezzo.upper[:]"
   ]
  }
 ],
 "metadata": {
  "kernelspec": {
   "display_name": "Python 3 (ipykernel)",
   "language": "python",
   "name": "python3"
  },
  "language_info": {
   "codemirror_mode": {
    "name": "ipython",
    "version": 3
   },
   "file_extension": ".py",
   "mimetype": "text/x-python",
   "name": "python",
   "nbconvert_exporter": "python",
   "pygments_lexer": "ipython3",
   "version": "3.10.13"
  }
 },
 "nbformat": 4,
 "nbformat_minor": 2
}
